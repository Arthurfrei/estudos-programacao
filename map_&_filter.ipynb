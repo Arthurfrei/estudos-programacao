{
  "nbformat": 4,
  "nbformat_minor": 0,
  "metadata": {
    "colab": {
      "provenance": [],
      "authorship_tag": "ABX9TyMc0nOi5Q2OO4fm7xA2XiuW",
      "include_colab_link": true
    },
    "kernelspec": {
      "name": "python3",
      "display_name": "Python 3"
    },
    "language_info": {
      "name": "python"
    }
  },
  "cells": [
    {
      "cell_type": "markdown",
      "metadata": {
        "id": "view-in-github",
        "colab_type": "text"
      },
      "source": [
        "<a href=\"https://colab.research.google.com/github/Arthurfrei/estudos-programacao/blob/main/map_%26_filter.ipynb\" target=\"_parent\"><img src=\"https://colab.research.google.com/assets/colab-badge.svg\" alt=\"Open In Colab\"/></a>"
      ]
    },
    {
      "cell_type": "code",
      "execution_count": 4,
      "metadata": {
        "id": "h9JMlkJ6bkwW"
      },
      "outputs": [],
      "source": [
        "#Pegar os números de uma lista\n",
        "#Criar outra lista com o dobro\n",
        "\n",
        "nums = [6, 5, 2, 1, 7]"
      ]
    },
    {
      "cell_type": "code",
      "source": [
        "#MAP map(função, iteravel)\n",
        "newList = list(map(lambda x: x*2, nums))\n",
        "newList"
      ],
      "metadata": {
        "colab": {
          "base_uri": "https://localhost:8080/"
        },
        "id": "bihKb__Rn39q",
        "outputId": "fba24370-9012-4d79-a47b-16d6e0183425"
      },
      "execution_count": 5,
      "outputs": [
        {
          "output_type": "execute_result",
          "data": {
            "text/plain": [
              "[12, 10, 4, 2, 14]"
            ]
          },
          "metadata": {},
          "execution_count": 5
        }
      ]
    },
    {
      "cell_type": "code",
      "source": [
        "#Recebe os valores de uma linsta numérica e\n",
        "#Retorne o quadrado de cada número\n",
        "nume = [8, 3, 9, 2, 4]\n",
        "\n",
        "newList = list(map(lambda x: x*x, nume))\n",
        "newList"
      ],
      "metadata": {
        "colab": {
          "base_uri": "https://localhost:8080/"
        },
        "id": "JLLT1MUzoelB",
        "outputId": "0fb13ef1-695a-4eee-a2a5-4efcf77e8640"
      },
      "execution_count": 13,
      "outputs": [
        {
          "output_type": "execute_result",
          "data": {
            "text/plain": [
              "[64, 9, 81, 4, 16]"
            ]
          },
          "metadata": {},
          "execution_count": 13
        }
      ]
    },
    {
      "cell_type": "code",
      "source": [
        "frutas = ['banana', 'pera', 'uva', 'cajá', 'manga']"
      ],
      "metadata": {
        "id": "hUFo1F-1rQvb"
      },
      "execution_count": 11,
      "outputs": []
    },
    {
      "cell_type": "code",
      "source": [
        "#Recebe uma lista de frutas e\n",
        "#Retorna uma lista com a quantidade de caracteres.\n",
        "newList = list(map(lambda x: len(x), frutas))\n",
        "newList"
      ],
      "metadata": {
        "colab": {
          "base_uri": "https://localhost:8080/"
        },
        "id": "HFJ5GJ66rAN9",
        "outputId": "074b578c-b7c6-4e75-ad99-a55cdcac416b"
      },
      "execution_count": 12,
      "outputs": [
        {
          "output_type": "execute_result",
          "data": {
            "text/plain": [
              "[6, 4, 3, 4, 5]"
            ]
          },
          "metadata": {},
          "execution_count": 12
        }
      ]
    },
    {
      "cell_type": "code",
      "source": [
        "#Pegar os preços de uma lista\n",
        "#adicionar 2 a cada um deles\n",
        "preços = [2.99, 5.39, 2.50, 4.00]\n",
        "\n",
        "newList = list(map(lambda x: x+2, preços))\n",
        "newList"
      ],
      "metadata": {
        "colab": {
          "base_uri": "https://localhost:8080/"
        },
        "id": "f_uZQQc_tw0d",
        "outputId": "d74c7c95-56de-4382-e826-bb98a968ed55"
      },
      "execution_count": 14,
      "outputs": [
        {
          "output_type": "execute_result",
          "data": {
            "text/plain": [
              "[4.99, 7.39, 4.5, 6.0]"
            ]
          },
          "metadata": {},
          "execution_count": 14
        }
      ]
    },
    {
      "cell_type": "code",
      "source": [
        "notas = [6, 7, 3.5, 9, 6.5]\n",
        "#quero apenas os aprovados....\n",
        "aprovados = list(filter(lambda x: x>=7, notas))\n",
        "aprovados"
      ],
      "metadata": {
        "colab": {
          "base_uri": "https://localhost:8080/"
        },
        "id": "UjiLbFnwvalk",
        "outputId": "adc46a70-f274-444b-b441-712b1638d18e"
      },
      "execution_count": 15,
      "outputs": [
        {
          "output_type": "execute_result",
          "data": {
            "text/plain": [
              "[7, 9]"
            ]
          },
          "metadata": {},
          "execution_count": 15
        }
      ]
    }
  ]
}