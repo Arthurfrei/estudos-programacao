{
  "nbformat": 4,
  "nbformat_minor": 0,
  "metadata": {
    "colab": {
      "provenance": [],
      "authorship_tag": "ABX9TyOPu7+LzcnqgOfu0cu7kZCy",
      "include_colab_link": true
    },
    "kernelspec": {
      "name": "python3",
      "display_name": "Python 3"
    },
    "language_info": {
      "name": "python"
    }
  },
  "cells": [
    {
      "cell_type": "markdown",
      "metadata": {
        "id": "view-in-github",
        "colab_type": "text"
      },
      "source": [
        "<a href=\"https://colab.research.google.com/github/Arthurfrei/estudos-programacao/blob/main/Aula_fu%C3%A7%C3%A3o.ipynb\" target=\"_parent\"><img src=\"https://colab.research.google.com/assets/colab-badge.svg\" alt=\"Open In Colab\"/></a>"
      ]
    },
    {
      "cell_type": "code",
      "execution_count": 10,
      "metadata": {
        "id": "5pIR-8puL1_z"
      },
      "outputs": [],
      "source": [
        "#Argmentos arbitrários *args\n",
        "#Quando não se tem certeza quantos argumentos são passados pela função\n",
        "\n",
        "def mediaTotal(*notas):\n",
        "  soma = 0\n",
        "  for nota in notas:\n",
        "    soma += nota \n",
        "  media = soma/len(notas)\n",
        "  return round(media, 3)  "
      ]
    },
    {
      "cell_type": "code",
      "source": [
        "mediaTotal(7,6,3,9,5,7,5,8,3,7,5,6,1)"
      ],
      "metadata": {
        "colab": {
          "base_uri": "https://localhost:8080/"
        },
        "id": "oi0J4k2LNwNZ",
        "outputId": "93030e54-b185-46c7-e78c-9bf8636ddad4"
      },
      "execution_count": 11,
      "outputs": [
        {
          "output_type": "execute_result",
          "data": {
            "text/plain": [
              "5.538"
            ]
          },
          "metadata": {},
          "execution_count": 11
        }
      ]
    },
    {
      "cell_type": "code",
      "source": [
        "#Recebe vários números e retorna o maior.\n",
        "def retornaMaior(*numeros):\n",
        "  maior = 0\n",
        "  for n in numeros:\n",
        "    if(n >= maior):\n",
        "      maior = n \n",
        "  return maior"
      ],
      "metadata": {
        "id": "mefpgVwAPWs-"
      },
      "execution_count": 39,
      "outputs": []
    },
    {
      "cell_type": "code",
      "source": [
        "retornaMaior(5,6,76,43,2,86,65)"
      ],
      "metadata": {
        "colab": {
          "base_uri": "https://localhost:8080/"
        },
        "id": "i-UJ4xHKUKTa",
        "outputId": "8c29d6cd-00c8-4241-ac96-7a3ca606f727"
      },
      "execution_count": 40,
      "outputs": [
        {
          "output_type": "execute_result",
          "data": {
            "text/plain": [
              "86"
            ]
          },
          "metadata": {},
          "execution_count": 40
        }
      ]
    },
    {
      "cell_type": "code",
      "source": [
        "#Valor de parâmetro padrão\n",
        "def nacionalidade(country = 'Cuba'):\n",
        "  print('Eu nasci em: '+ country)"
      ],
      "metadata": {
        "id": "A6m1c12bc03o"
      },
      "execution_count": 50,
      "outputs": []
    },
    {
      "cell_type": "code",
      "source": [
        "nacionalidade('Brasil')\n",
        "nacionalidade('França')\n",
        "nacionalidade('Vietnã')\n",
        "nacionalidade()\n"
      ],
      "metadata": {
        "colab": {
          "base_uri": "https://localhost:8080/"
        },
        "id": "TwoKpotZe12y",
        "outputId": "0d732209-4326-4847-eba3-3ce8ca951c87"
      },
      "execution_count": 52,
      "outputs": [
        {
          "output_type": "stream",
          "name": "stdout",
          "text": [
            "Eu nasci em: Brasil\n",
            "Eu nasci em: França\n",
            "Eu nasci em: Vietnã\n",
            "Eu nasci em: Cuba\n"
          ]
        }
      ]
    },
    {
      "cell_type": "code",
      "source": [
        "#1 Escreva uma função que recebe dois parâmetros numéricos e\n",
        "#retorna a soma desses números.\n",
        "#2 Escreva uma função que recebe um número e\n",
        "#retorna o seu valor absoluto.\n",
        "#3 Escreva uma função que recebe uma lista de números e \n",
        "#retorna o maior número da lista.\n",
        "#4 Escreva uma função que recebe uma lista de palavras e\n",
        "#retorna uma lista com as palavras que possuem mais de três letras."
      ],
      "metadata": {
        "id": "_1SacIi9fhS0"
      },
      "execution_count": null,
      "outputs": []
    },
    {
      "cell_type": "code",
      "source": [
        "#1 Escreva uma função que recebe dois parâmetros numéricos e\n",
        "#retorna a soma desses números.\n",
        "def soma(a, b):\n",
        "  return a + b\n"
      ],
      "metadata": {
        "id": "6MEAT4rJg6nc"
      },
      "execution_count": 66,
      "outputs": []
    },
    {
      "cell_type": "code",
      "source": [
        "soma(4+6)"
      ],
      "metadata": {
        "colab": {
          "base_uri": "https://localhost:8080/",
          "height": 165
        },
        "id": "uRSDde5aiQGV",
        "outputId": "07c3c355-b99c-46f2-9b3b-9b12ac275ed3"
      },
      "execution_count": 67,
      "outputs": [
        {
          "output_type": "error",
          "ename": "TypeError",
          "evalue": "ignored",
          "traceback": [
            "\u001b[0;31m---------------------------------------------------------------------------\u001b[0m",
            "\u001b[0;31mTypeError\u001b[0m                                 Traceback (most recent call last)",
            "\u001b[0;32m<ipython-input-67-97065ff268e2>\u001b[0m in \u001b[0;36m<cell line: 1>\u001b[0;34m()\u001b[0m\n\u001b[0;32m----> 1\u001b[0;31m \u001b[0msoma\u001b[0m\u001b[0;34m(\u001b[0m\u001b[0;36m4\u001b[0m\u001b[0;34m+\u001b[0m\u001b[0;36m6\u001b[0m\u001b[0;34m)\u001b[0m\u001b[0;34m\u001b[0m\u001b[0;34m\u001b[0m\u001b[0m\n\u001b[0m",
            "\u001b[0;31mTypeError\u001b[0m: soma() missing 1 required positional argument: 'b'"
          ]
        }
      ]
    },
    {
      "cell_type": "code",
      "source": [
        "#2 Escreva uma função que recebe um número e\n",
        "#retorna o seu valor absoluto.\n",
        "def valorAbsoluto(num):\n",
        "  if(num < 0):\n",
        "    num = num * -1\n",
        "  return num"
      ],
      "metadata": {
        "id": "YZ0h-VQhiWJ2"
      },
      "execution_count": 58,
      "outputs": []
    },
    {
      "cell_type": "code",
      "source": [
        "valorAbsoluto(-6585)"
      ],
      "metadata": {
        "colab": {
          "base_uri": "https://localhost:8080/"
        },
        "id": "w6MVcMOwi9pk",
        "outputId": "a109ae18-0127-422c-f214-ce39716ebda9"
      },
      "execution_count": 64,
      "outputs": [
        {
          "output_type": "execute_result",
          "data": {
            "text/plain": [
              "6585"
            ]
          },
          "metadata": {},
          "execution_count": 64
        }
      ]
    },
    {
      "cell_type": "code",
      "source": [
        "#3 Escreva uma função que recebe uma lista de números e \n",
        "#retorna o maior número da lista.\n",
        "def retornaMaior(*numeros):\n",
        "  maior = 0\n",
        "  for n in numeros:\n",
        "    if(n >= maior):\n",
        "      maior = n \n",
        "  return maior"
      ],
      "metadata": {
        "id": "kc9DPVxPjWkQ"
      },
      "execution_count": 68,
      "outputs": []
    },
    {
      "cell_type": "code",
      "source": [
        "retornaMaior(5,6,76,43,2,86,65)"
      ],
      "metadata": {
        "colab": {
          "base_uri": "https://localhost:8080/"
        },
        "id": "o8nBlhysjhlS",
        "outputId": "87dbfc3e-0f10-46e5-da92-4a26eda1d93c"
      },
      "execution_count": 69,
      "outputs": [
        {
          "output_type": "execute_result",
          "data": {
            "text/plain": [
              "86"
            ]
          },
          "metadata": {},
          "execution_count": 69
        }
      ]
    },
    {
      "cell_type": "code",
      "source": [
        "#4 Escreva uma função que recebe uma lista de palavras e\n",
        "#retorna uma lista com as palavras que possuem mais de três letras.\n",
        "def maiorque3(lista):\n",
        "  novaLista = []\n",
        "  for item in lista:\n",
        "    if(len(item) > 3):\n",
        "      novaLista.append(item)\n",
        "  return lista3    "
      ],
      "metadata": {
        "id": "w1rKcj90jlaS"
      },
      "execution_count": 71,
      "outputs": []
    },
    {
      "cell_type": "code",
      "source": [
        "frutas = ['mangaba', 'uva', 'pinha']\n",
        "novaLista(frutas)"
      ],
      "metadata": {
        "colab": {
          "base_uri": "https://localhost:8080/",
          "height": 183
        },
        "id": "jySeFWUWknI6",
        "outputId": "3bcc415b-adc4-4e21-a179-c837be7c33b7"
      },
      "execution_count": 72,
      "outputs": [
        {
          "output_type": "error",
          "ename": "NameError",
          "evalue": "ignored",
          "traceback": [
            "\u001b[0;31m---------------------------------------------------------------------------\u001b[0m",
            "\u001b[0;31mNameError\u001b[0m                                 Traceback (most recent call last)",
            "\u001b[0;32m<ipython-input-72-29683e31f511>\u001b[0m in \u001b[0;36m<cell line: 2>\u001b[0;34m()\u001b[0m\n\u001b[1;32m      1\u001b[0m \u001b[0mfrutas\u001b[0m \u001b[0;34m=\u001b[0m \u001b[0;34m[\u001b[0m\u001b[0;34m'mangaba'\u001b[0m\u001b[0;34m,\u001b[0m \u001b[0;34m'uva'\u001b[0m\u001b[0;34m,\u001b[0m \u001b[0;34m'pinha'\u001b[0m\u001b[0;34m]\u001b[0m\u001b[0;34m\u001b[0m\u001b[0;34m\u001b[0m\u001b[0m\n\u001b[0;32m----> 2\u001b[0;31m \u001b[0mnovaLista\u001b[0m\u001b[0;34m(\u001b[0m\u001b[0mfrutas\u001b[0m\u001b[0;34m)\u001b[0m\u001b[0;34m\u001b[0m\u001b[0;34m\u001b[0m\u001b[0m\n\u001b[0m",
            "\u001b[0;31mNameError\u001b[0m: name 'novaLista' is not defined"
          ]
        }
      ]
    }
  ]
}