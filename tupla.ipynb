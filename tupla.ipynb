{
  "nbformat": 4,
  "nbformat_minor": 0,
  "metadata": {
    "colab": {
      "provenance": [],
      "authorship_tag": "ABX9TyNjEkuck/nY0elQ3bEGXis+",
      "include_colab_link": true
    },
    "kernelspec": {
      "name": "python3",
      "display_name": "Python 3"
    },
    "language_info": {
      "name": "python"
    }
  },
  "cells": [
    {
      "cell_type": "markdown",
      "metadata": {
        "id": "view-in-github",
        "colab_type": "text"
      },
      "source": [
        "<a href=\"https://colab.research.google.com/github/Arthurfrei/estudos-programacao/blob/main/tupla.ipynb\" target=\"_parent\"><img src=\"https://colab.research.google.com/assets/colab-badge.svg\" alt=\"Open In Colab\"/></a>"
      ]
    },
    {
      "cell_type": "code",
      "execution_count": 1,
      "metadata": {
        "colab": {
          "base_uri": "https://localhost:8080/"
        },
        "id": "V7-iKIgXXfRi",
        "outputId": "dd2aa0f7-ec80-4ed1-c74f-b3ef8b1fe1e0"
      },
      "outputs": [
        {
          "output_type": "execute_result",
          "data": {
            "text/plain": [
              "('maçã', 'banana', 'laranja', 'goiaba')"
            ]
          },
          "metadata": {},
          "execution_count": 1
        }
      ],
      "source": [
        "tp_frutas = ('maçã', 'banana', 'laranja', 'goiaba')\n",
        "tp_frutas"
      ]
    },
    {
      "cell_type": "code",
      "source": [
        "#Criando uma lista a partir de uma tupla ou uma tupla a partir de uma lista\n",
        "lst_frutas = list(tp_frutas)\n",
        "type(lst_frutas)\n",
        "lst_frutas"
      ],
      "metadata": {
        "colab": {
          "base_uri": "https://localhost:8080/"
        },
        "id": "ZZxkwf57X4xL",
        "outputId": "df86505d-0281-4339-a856-52463fcd6503"
      },
      "execution_count": 2,
      "outputs": [
        {
          "output_type": "execute_result",
          "data": {
            "text/plain": [
              "['maçã', 'banana', 'laranja', 'goiaba']"
            ]
          },
          "metadata": {},
          "execution_count": 2
        }
      ]
    },
    {
      "cell_type": "code",
      "source": [
        "lst_frutas = list(tp_frutas)\n",
        "type(lst_frutas)\n",
        "tp_frutas2 = tuple(lst_frutas)\n",
        "tp_frutas2"
      ],
      "metadata": {
        "colab": {
          "base_uri": "https://localhost:8080/"
        },
        "id": "iHtWfYmYYrC9",
        "outputId": "5fa8bb2d-0af3-42f3-9f58-55f2d43c63e2"
      },
      "execution_count": 4,
      "outputs": [
        {
          "output_type": "execute_result",
          "data": {
            "text/plain": [
              "('maçã', 'banana', 'laranja', 'goiaba')"
            ]
          },
          "metadata": {},
          "execution_count": 4
        }
      ]
    },
    {
      "cell_type": "code",
      "source": [
        "#Fatiamento (Slicing)\n",
        "tp_meses = ('jan', 'fev', 'mar', 'abr', 'mai', 'jun', 'jul', 'ago', 'set', 'out', 'nov', 'dez')\n",
        "# se quiser apenas os meses de Abril a Junho\n",
        "tp_meses[3:6]"
      ],
      "metadata": {
        "colab": {
          "base_uri": "https://localhost:8080/"
        },
        "id": "wDdcfPL9ZPW0",
        "outputId": "28baee44-6aff-452a-bd9b-2a1091db5e25"
      },
      "execution_count": 6,
      "outputs": [
        {
          "output_type": "execute_result",
          "data": {
            "text/plain": [
              "('abr', 'mai', 'jun')"
            ]
          },
          "metadata": {},
          "execution_count": 6
        }
      ]
    },
    {
      "cell_type": "code",
      "source": [
        "#Ordenação de dados *sort(value, key = x)\n",
        "#Ordenar os estados pelo DDD e não pelo nome \n",
        "uf_cod = [('PE', 81), ('RJ', 21), ('SP', 11), ('PB', 83)]\n",
        "\n",
        "sorted(uf_cod, key = lambda x : x[1])"
      ],
      "metadata": {
        "colab": {
          "base_uri": "https://localhost:8080/"
        },
        "id": "0Xw_DsMIa3pw",
        "outputId": "3f5401d7-b582-41bf-f4c0-287e9662931c"
      },
      "execution_count": 8,
      "outputs": [
        {
          "output_type": "execute_result",
          "data": {
            "text/plain": [
              "[('SP', 11), ('RJ', 21), ('PE', 81), ('PB', 83)]"
            ]
          },
          "metadata": {},
          "execution_count": 8
        }
      ]
    },
    {
      "cell_type": "code",
      "source": [
        "#Colocar a tupla a seguir em ordem \n",
        "#do mais novo para o mais velho\n",
        "#do mais velho para o mais novo\n",
        "nome_nasc = [('Zé', 2003), ('Maria', 1998), ('Alice', 2000)]\n",
        "sorted(nome_nasc, key = lambda x: x[1], reverse = True)"
      ],
      "metadata": {
        "colab": {
          "base_uri": "https://localhost:8080/"
        },
        "id": "xPRbGnmBcqrs",
        "outputId": "496e81d9-fc2a-43c9-d7dd-b7ad32802b4a"
      },
      "execution_count": 10,
      "outputs": [
        {
          "output_type": "execute_result",
          "data": {
            "text/plain": [
              "[('Zé', 2003), ('Alice', 2000), ('Maria', 1998)]"
            ]
          },
          "metadata": {},
          "execution_count": 10
        }
      ]
    },
    {
      "cell_type": "code",
      "source": [
        "#Desempacotamento de valores.\n",
        "def nome_idade_uf():\n",
        "  nome = \"José\"\n",
        "  idade = 28\n",
        "  uf ='RN'\n",
        "  return nome, idade, uf\n",
        "\n",
        "name, age, uf = nome_idade_uf()\n",
        "\n",
        "print(name, age, uf)"
      ],
      "metadata": {
        "colab": {
          "base_uri": "https://localhost:8080/"
        },
        "id": "is6paLE4lWnV",
        "outputId": "f8daead0-15dc-48e6-b9eb-82dbc425aebc"
      },
      "execution_count": 11,
      "outputs": [
        {
          "output_type": "stream",
          "name": "stdout",
          "text": [
            "José 28 RN\n"
          ]
        }
      ]
    },
    {
      "cell_type": "code",
      "source": [
        "#Mapeamento de valores\n",
        "alunos = ('Kelly', 'Adauto', 'Marcelline', 'Luana', 'Henrique')\n",
        "notas = (5.5, 8, 9, 7.5, 6.5)\n",
        "\n",
        "Av1 = tuple(zip(alunos, notas))\n",
        "Av1"
      ],
      "metadata": {
        "colab": {
          "base_uri": "https://localhost:8080/"
        },
        "id": "2YmadyyyoDDE",
        "outputId": "ac18614d-4ef3-4a6b-c584-728894fd5dc5"
      },
      "execution_count": 17,
      "outputs": [
        {
          "output_type": "execute_result",
          "data": {
            "text/plain": [
              "(('Kelly', 5.5),\n",
              " ('Adauto', 8),\n",
              " ('Marcelline', 9),\n",
              " ('Luana', 7.5),\n",
              " ('Henrique', 6.5))"
            ]
          },
          "metadata": {},
          "execution_count": 17
        }
      ]
    },
    {
      "cell_type": "code",
      "source": [
        "#Escrever uma função que receba duas tuplas com entrada e retorne uma única tupla que seja a concatenação das duas.\n",
        "def concatenaTupla (tp1, tp2):\n",
        "  return tp1 + tp2\n",
        "\n",
        "a = (2, 4, 5)\n",
        "b = (6, 8, 12)\n",
        "concatenaTupla(a, b)"
      ],
      "metadata": {
        "colab": {
          "base_uri": "https://localhost:8080/"
        },
        "id": "eBjfaFCJpoOY",
        "outputId": "b7c1adb7-8e64-4ea0-bca7-d7bd46c9492e"
      },
      "execution_count": 19,
      "outputs": [
        {
          "output_type": "execute_result",
          "data": {
            "text/plain": [
              "(2, 4, 5, 6, 8, 12)"
            ]
          },
          "metadata": {},
          "execution_count": 19
        }
      ]
    },
    {
      "cell_type": "code",
      "source": [
        "#Escrever uma função que receba uma tupla contendo o nome e endereço: logradouro, número e bairro de uma pessoa e retorna uma string formatada.\n",
        "def formatada(tupla):\n",
        "  nome, logradouro, num, bairro = tupla\n",
        "  return f'Nome:{nome}, residente a{logradouro}, {num}, {bairro}.'\n",
        "\n",
        "dadosCliente = ('Manoelina', 'Rua das Couves', '42', 'Torre')\n",
        "\n",
        "print (formatada(dadosCliente)) "
      ],
      "metadata": {
        "colab": {
          "base_uri": "https://localhost:8080/"
        },
        "id": "z_Rw3rtdqzM4",
        "outputId": "6cb774c2-a989-4aed-884d-eac0a76005c6"
      },
      "execution_count": 26,
      "outputs": [
        {
          "output_type": "stream",
          "name": "stdout",
          "text": [
            "Nome:Manoelina, residente aRua das Couves, 42, Torre.\n"
          ]
        }
      ]
    },
    {
      "cell_type": "code",
      "source": [
        "#Escreva uma função que receba uma lista de tuplas contendo nome e idade de pessoas e retorne a lista ordenada por idade."
      ],
      "metadata": {
        "id": "Q9gUCaAHrZj3"
      },
      "execution_count": null,
      "outputs": []
    }
  ]
}