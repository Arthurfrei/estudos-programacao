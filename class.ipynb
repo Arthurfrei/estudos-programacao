{
  "nbformat": 4,
  "nbformat_minor": 0,
  "metadata": {
    "colab": {
      "provenance": [],
      "authorship_tag": "ABX9TyMjPCZFiIgCe/w9bz8Ko4wS",
      "include_colab_link": true
    },
    "kernelspec": {
      "name": "python3",
      "display_name": "Python 3"
    },
    "language_info": {
      "name": "python"
    }
  },
  "cells": [
    {
      "cell_type": "markdown",
      "metadata": {
        "id": "view-in-github",
        "colab_type": "text"
      },
      "source": [
        "<a href=\"https://colab.research.google.com/github/Arthurfrei/estudos-programacao/blob/main/class.ipynb\" target=\"_parent\"><img src=\"https://colab.research.google.com/assets/colab-badge.svg\" alt=\"Open In Colab\"/></a>"
      ]
    },
    {
      "cell_type": "code",
      "execution_count": 2,
      "metadata": {
        "id": "7SXY0bx8kx5P"
      },
      "outputs": [],
      "source": [
        "class Funcionario:\n",
        "  def __init__(self, nome, cargo, matricula):\n",
        "    self.nome = nome\n",
        "    self.cargo = cargo\n",
        "    self.matricula = matricula"
      ]
    },
    {
      "cell_type": "code",
      "source": [
        "#instancia de Funcionario\n",
        "vend = Funcionario('Juarez', 'comprador', 36524)\n",
        "print(f'{vend.nome}, cargo: {vend.cargo}, mat: {vend.matricula}')"
      ],
      "metadata": {
        "colab": {
          "base_uri": "https://localhost:8080/"
        },
        "id": "Rovj-T7YlKK9",
        "outputId": "c3f8df74-f61c-4003-a4ad-6552badf47ae"
      },
      "execution_count": 3,
      "outputs": [
        {
          "output_type": "stream",
          "name": "stdout",
          "text": [
            "Juarez, cargo: comprador, mat: 36524\n"
          ]
        }
      ]
    },
    {
      "cell_type": "code",
      "source": [
        "#Criar uma classe Cliente contendo os atributos nome, idade, sexo\n",
        "class Cliente:\n",
        "  def __init__(self, nome, idade, sexo):\n",
        "    self.nome = nome\n",
        "    self.idade = idade\n",
        "    self.sexo = sexo\n",
        "\n",
        "  def detalhe(self):\n",
        "    print(f'{self.nome}, {self.idade}, {self.sexo}')  "
      ],
      "metadata": {
        "id": "FzYU1G3nl2VX"
      },
      "execution_count": 6,
      "outputs": []
    },
    {
      "cell_type": "code",
      "source": [
        "cli = Cliente('André', 24, 'Masculino')\n",
        "cli.detalhe()"
      ],
      "metadata": {
        "colab": {
          "base_uri": "https://localhost:8080/"
        },
        "id": "f2LRwjU4nh5_",
        "outputId": "1eae32f4-0d8e-479b-a3d3-26a16c561ac4"
      },
      "execution_count": 7,
      "outputs": [
        {
          "output_type": "stream",
          "name": "stdout",
          "text": [
            "André, 24, Masculino\n"
          ]
        }
      ]
    },
    {
      "cell_type": "code",
      "source": [
        "#Crie uma classe Conta com os atributos titular, saldo\n",
        "#Função chamada exibeSaldo\n",
        "class Conta:\n",
        "  def __init__(self, titular, saldo):\n",
        "    self.titular = titular\n",
        "    self.saldo = saldo\n",
        "  def exibeSaldo(self):\n",
        "    print(f'{self.titular} ----- R${self.saldo},00') "
      ],
      "metadata": {
        "id": "51ZHSOmhn8RG"
      },
      "execution_count": 24,
      "outputs": []
    },
    {
      "cell_type": "code",
      "source": [
        "conta = Conta('Carlos', 252363)\n",
        "conta.exibeSaldo()"
      ],
      "metadata": {
        "colab": {
          "base_uri": "https://localhost:8080/"
        },
        "id": "DaIfNCy-pRDx",
        "outputId": "274ebbac-18ba-43b7-fa90-b59dca7d6238"
      },
      "execution_count": 25,
      "outputs": [
        {
          "output_type": "stream",
          "name": "stdout",
          "text": [
            "Carlos ----- R$252363,00\n"
          ]
        }
      ]
    },
    {
      "cell_type": "code",
      "source": [
        "class Animal:\n",
        "  def __init__(self, name):\n",
        "    self.name = name\n",
        "  def emitirSom(self):\n",
        "    pass\n",
        "\n",
        "class Ovelha(Animal):\n",
        " def emitirSom(self):\n",
        "     print('Béeeee')\n",
        "\n",
        "class Cachorro(Animal):\n",
        " def emitirSom(self):\n",
        "     print('Au Au')\n",
        "\n",
        "\n",
        "class Gato(Animal):\n",
        " def emitirSom(self):\n",
        "     print('Miau')  \n",
        "\n",
        "class Vaca(Animal):\n",
        " def emitirSom(self):\n",
        "     print('Muuuuuu')\n",
        "\n",
        "\n",
        "class Galinha(Animal):\n",
        " def emitirSom(self):\n",
        "     print('Ko Ko')     "
      ],
      "metadata": {
        "id": "tpYeZiQbtUhv"
      },
      "execution_count": 33,
      "outputs": []
    },
    {
      "cell_type": "code",
      "source": [
        "ovelhinha = Ovelha('Ana')\n",
        "caozinho = Cachorro('Doug')\n",
        "\n",
        "ovelhinha.emitirSom()\n",
        "caozinho.emitirSom()"
      ],
      "metadata": {
        "colab": {
          "base_uri": "https://localhost:8080/"
        },
        "id": "D2jLqB62u3z3",
        "outputId": "f1709bb0-ea08-4f8c-a059-e2e2a5671ecf"
      },
      "execution_count": 36,
      "outputs": [
        {
          "output_type": "stream",
          "name": "stdout",
          "text": [
            "Béeeee\n",
            "Au Au\n"
          ]
        }
      ]
    },
    {
      "cell_type": "code",
      "source": [
        "#veiculo: marca, modelo (acelerar, freiar)\n",
        "#carro: ano\n",
        "#moto: cilindrada, ano\n",
        "#caminhão: ano, cargaMax"
      ],
      "metadata": {
        "id": "jjfbTbR2vmeH"
      },
      "execution_count": null,
      "outputs": []
    }
  ]
}