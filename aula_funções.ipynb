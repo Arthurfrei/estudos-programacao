{
  "nbformat": 4,
  "nbformat_minor": 0,
  "metadata": {
    "colab": {
      "provenance": [],
      "authorship_tag": "ABX9TyP0pB/OyhQagLzR47AKflwz",
      "include_colab_link": true
    },
    "kernelspec": {
      "name": "python3",
      "display_name": "Python 3"
    },
    "language_info": {
      "name": "python"
    }
  },
  "cells": [
    {
      "cell_type": "markdown",
      "metadata": {
        "id": "view-in-github",
        "colab_type": "text"
      },
      "source": [
        "<a href=\"https://colab.research.google.com/github/Arthurfrei/estudos-programacao/blob/main/aula_fun%C3%A7%C3%B5es.ipynb\" target=\"_parent\"><img src=\"https://colab.research.google.com/assets/colab-badge.svg\" alt=\"Open In Colab\"/></a>"
      ]
    },
    {
      "cell_type": "code",
      "execution_count": null,
      "metadata": {
        "id": "WdyA6aIGQing"
      },
      "outputs": [],
      "source": [
        "#1 - Escrever uma função que Recebe uma lista de strings e retorna:\n",
        "   ## apenas as palavras que começam com a letra A\n",
        "   ## a quantidade de palvras encontradas\n",
        "#2 - Escreva uma função que recebe uma lista de números e retorna o produto desses números. \n",
        "#3 - Escreva uma função que recebe uma lista de números e retorna a soma dos números pares.\n",
        "#4 - Função recebe uma lista de nomes, e retorna a string com o maior número de caracteres."
      ]
    },
    {
      "cell_type": "code",
      "source": [
        "palavra = 'macaco'\n",
        "palavra[0]"
      ],
      "metadata": {
        "colab": {
          "base_uri": "https://localhost:8080/",
          "height": 35
        },
        "id": "WaX-MYFrR1Ab",
        "outputId": "b9b03e8a-a2a8-4fc3-a13c-96b8d79bb12c"
      },
      "execution_count": 2,
      "outputs": [
        {
          "output_type": "execute_result",
          "data": {
            "text/plain": [
              "'m'"
            ],
            "application/vnd.google.colaboratory.intrinsic+json": {
              "type": "string"
            }
          },
          "metadata": {},
          "execution_count": 2
        }
      ]
    },
    {
      "cell_type": "code",
      "source": [
        "def listaLetraA(palavras):\n",
        "  wordA = []\n",
        "  for i in palavras:\n",
        "    if i[0] == 'a':\n",
        "      wordA.append(i)\n",
        "  print(len(wordA))    \n",
        "  return wordA   "
      ],
      "metadata": {
        "id": "Rnz8az4qSA54"
      },
      "execution_count": 18,
      "outputs": []
    },
    {
      "cell_type": "code",
      "source": [
        "animais = ['arara', 'morcego', 'macaco', 'ariranha', 'papagaio']\n",
        "listaLetraA(animais)"
      ],
      "metadata": {
        "colab": {
          "base_uri": "https://localhost:8080/"
        },
        "id": "lbSaqnHJVjR8",
        "outputId": "773fac78-9181-4b00-ed31-6fe38f61f788"
      },
      "execution_count": 19,
      "outputs": [
        {
          "output_type": "stream",
          "name": "stdout",
          "text": [
            "2\n"
          ]
        },
        {
          "output_type": "execute_result",
          "data": {
            "text/plain": [
              "['arara', 'ariranha']"
            ]
          },
          "metadata": {},
          "execution_count": 19
        }
      ]
    },
    {
      "cell_type": "code",
      "source": [
        "def Produto(numeros):\n",
        "  resultado = 1\n",
        "  for n in numeros:\n",
        "    resultado *= n\n",
        "  return resultado  \n",
        "\n"
      ],
      "metadata": {
        "id": "nrZ0Lx1pZWr-"
      },
      "execution_count": 30,
      "outputs": []
    },
    {
      "cell_type": "code",
      "source": [
        "numerozinhos = [3, 4, 2, 6, 7]\n",
        "Produto(numerozinhos)"
      ],
      "metadata": {
        "colab": {
          "base_uri": "https://localhost:8080/"
        },
        "id": "aoufh_V4bLyt",
        "outputId": "35fb8d45-6cf3-413c-fdc6-e82abe1a6439"
      },
      "execution_count": 31,
      "outputs": [
        {
          "output_type": "execute_result",
          "data": {
            "text/plain": [
              "1008"
            ]
          },
          "metadata": {},
          "execution_count": 31
        }
      ]
    },
    {
      "cell_type": "code",
      "source": [
        "def somatorio(numeros):\n",
        "  soma = 0\n",
        "  for n in numeros:\n",
        "    if n %2 == 0:\n",
        "      soma += n\n",
        "  return soma    "
      ],
      "metadata": {
        "id": "9_1w_8s7ZW18"
      },
      "execution_count": 32,
      "outputs": []
    },
    {
      "cell_type": "code",
      "source": [
        "numerozinhos = [3, 4, 2, 6, 7, 8, 6]\n",
        "somatorio(numerozinhos)"
      ],
      "metadata": {
        "colab": {
          "base_uri": "https://localhost:8080/"
        },
        "id": "XRoUkhf8iPI6",
        "outputId": "9881422b-46be-48c4-d977-b4c0b4b5d6cc"
      },
      "execution_count": 33,
      "outputs": [
        {
          "output_type": "execute_result",
          "data": {
            "text/plain": [
              "26"
            ]
          },
          "metadata": {},
          "execution_count": 33
        }
      ]
    },
    {
      "cell_type": "code",
      "source": [
        "users = ['zeca', 'anastacio', 'josefina', 'ivo', 'amaralin']\n",
        "\n",
        "def maiorString(users):\n",
        "  maior = ''\n",
        "  for u in users:\n",
        "    if(len(u) >= len(maior)):\n",
        "      maior = u\n",
        "  return maior    \n",
        "\n",
        "maiorString(users)  "
      ],
      "metadata": {
        "colab": {
          "base_uri": "https://localhost:8080/",
          "height": 35
        },
        "id": "5K5IOICSkZc5",
        "outputId": "a5c4430b-6c34-477d-f1f9-9f1bc4d3fe90"
      },
      "execution_count": 37,
      "outputs": [
        {
          "output_type": "execute_result",
          "data": {
            "text/plain": [
              "'anastacio'"
            ],
            "application/vnd.google.colaboratory.intrinsic+json": {
              "type": "string"
            }
          },
          "metadata": {},
          "execution_count": 37
        }
      ]
    },
    {
      "cell_type": "code",
      "source": [
        "#Cálculo de fatorial:\n",
        "# O fatorial de um número é o produto dele pelos seus antecessores maires que 0.\n",
        "#Por exemplo, o fatorial de 6 é: 6! = 6*5*4*3*2*1.\n",
        "def fatorial(n):\n",
        "  if(n <= 1):\n",
        "    return 1\n",
        "  else:\n",
        "    return n * fatorial(n-1)  "
      ],
      "metadata": {
        "id": "UL2DEuRoqQek"
      },
      "execution_count": 38,
      "outputs": []
    },
    {
      "cell_type": "code",
      "source": [
        "fatorial(5)"
      ],
      "metadata": {
        "colab": {
          "base_uri": "https://localhost:8080/"
        },
        "id": "PBT4eZa-rJ_3",
        "outputId": "252639aa-8f81-4272-c368-92a3ca995cc2"
      },
      "execution_count": 39,
      "outputs": [
        {
          "output_type": "execute_result",
          "data": {
            "text/plain": [
              "120"
            ]
          },
          "metadata": {},
          "execution_count": 39
        }
      ]
    }
  ]
}